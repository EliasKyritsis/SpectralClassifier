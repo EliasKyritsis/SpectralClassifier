{
 "cells": [
  {
   "cell_type": "markdown",
   "id": "coordinated-companion",
   "metadata": {},
   "source": [
    "# Import all the needed packages"
   ]
  },
  {
   "cell_type": "code",
   "execution_count": 1,
   "id": "interim-scenario",
   "metadata": {},
   "outputs": [],
   "source": [
    "from natsort import natsorted\n",
    "from collections import defaultdict\n",
    "import numpy as np\n",
    "import os \n",
    "import pandas as pd\n",
    "import joblib"
   ]
  },
  {
   "cell_type": "markdown",
   "id": "cosmetic-habitat",
   "metadata": {},
   "source": [
    "# Load the dataset"
   ]
  },
  {
   "cell_type": "code",
   "execution_count": 2,
   "id": "affiliated-prisoner",
   "metadata": {},
   "outputs": [],
   "source": [
    "path = '/home/elias/Projects/Github_rep/SpectralClassifier/' # Chang the path with yours\n",
    "file_with_data = 'test_sample'\n",
    "infile_data = path + file_with_data"
   ]
  },
  {
   "cell_type": "code",
   "execution_count": 3,
   "id": "minus-hartford",
   "metadata": {},
   "outputs": [
    {
     "name": "stdout",
     "output_type": "stream",
     "text": [
      "Spectral Lines: ['HeI/4009', 'HeI/4026', 'SiIV/4088', 'Hd/4100', 'SiIV/4116', 'HeI/4121', 'SiII/4130', 'HeI/4144', 'HeII/4200', 'FeII/4233', 'HeI/4387', 'OII/4416', 'HeI/4471', 'MgII/4481', 'HeII/4541', 'SiIII/4553', 'OII+CIII/4645', 'HeII/4686']\n"
     ]
    }
   ],
   "source": [
    "unseen_data = defaultdict(dict) #master dictionary\n",
    "with open(infile_data, 'r') as inf :\n",
    "    for line in inf.readlines():\n",
    "        if line[0] != '#' :\n",
    "            col = line.split(',') #','   \n",
    "            target_name = col[0]\n",
    "            spec_lines  = col[1]\n",
    "            ew_values   = col[3]\n",
    "            unseen_data[target_name][spec_lines] = ew_values\n",
    "            \n",
    "\n",
    "all_spec_lines = list(list(unseen_data.values())[0])\n",
    "print('Spectral Lines: {}'.format(all_spec_lines))"
   ]
  },
  {
   "cell_type": "markdown",
   "id": "dynamic-thought",
   "metadata": {},
   "source": [
    "# Characteristic spectral lines"
   ]
  },
  {
   "cell_type": "markdown",
   "id": "liberal-disorder",
   "metadata": {},
   "source": [
    "**Do not change these spectral lines, because these features have been used for the training of the models**"
   ]
  },
  {
   "cell_type": "code",
   "execution_count": 4,
   "id": "pediatric-massachusetts",
   "metadata": {},
   "outputs": [
    {
     "name": "stdout",
     "output_type": "stream",
     "text": [
      "Spectral Features are:\n",
      "['HeI/4009', 'HeI/4026', 'SiIV/4088', 'SiIV/4116', 'HeI/4121', 'SiII/4130', 'HeI/4144', 'HeII/4200', 'FeII/4233', 'HeI/4387', 'OII/4416', 'HeI/4471', 'MgII/4481', 'HeII/4541', 'SiIII/4553', 'OII+CIII/4645', 'HeII/4686']\n"
     ]
    }
   ],
   "source": [
    "selected_lines =['HeI/4009', 'HeI/4026', 'SiIV/4088', 'SiIV/4116', 'HeI/4121', 'SiII/4130', \n",
    "                 'HeI/4144', 'HeII/4200', 'FeII/4233', 'HeI/4387', 'OII/4416', 'HeI/4471', \n",
    "                 'MgII/4481', 'HeII/4541', 'SiIII/4553', 'OII+CIII/4645', 'HeII/4686']\n",
    "print('Spectral Features are:')\n",
    "print(selected_lines)"
   ]
  },
  {
   "cell_type": "markdown",
   "id": "systematic-dependence",
   "metadata": {},
   "source": [
    "# Check the number of the spectra which will be classified by the model"
   ]
  },
  {
   "cell_type": "code",
   "execution_count": 5,
   "id": "turned-customer",
   "metadata": {},
   "outputs": [
    {
     "name": "stdout",
     "output_type": "stream",
     "text": [
      "Unseen data: 8\n",
      "-------------------------\n"
     ]
    }
   ],
   "source": [
    "print('Unseen data: {}'.format(len(unseen_data)))\n",
    "print('-'*25)"
   ]
  },
  {
   "cell_type": "markdown",
   "id": "communist-basis",
   "metadata": {},
   "source": [
    "# Creating the arrays with the targets ID and the EW from each line"
   ]
  },
  {
   "cell_type": "code",
   "execution_count": 6,
   "id": "indirect-athens",
   "metadata": {},
   "outputs": [],
   "source": [
    "Targets_unseen = []\n",
    "EW_values_unseen = []\n",
    "\n",
    "for i in unseen_data.keys():\n",
    "    temp = []\n",
    "    for j in selected_lines:\n",
    "        temp.append(unseen_data[i][j])\n",
    "    Targets_unseen.append((i))\n",
    "    EW_values_unseen.append(temp)\n",
    "\n",
    "EW_values_unseen = np.asarray(EW_values_unseen,dtype=np.float64)\n",
    "Targets_unseen= np.asarray(Targets_unseen)"
   ]
  },
  {
   "cell_type": "markdown",
   "id": "fourth-package",
   "metadata": {},
   "source": [
    "# Load the pre-trained model and apply it "
   ]
  },
  {
   "cell_type": "code",
   "execution_count": 7,
   "id": "conventional-enzyme",
   "metadata": {},
   "outputs": [],
   "source": [
    "loaded_rf = joblib.load(\"RF_best_model_17_lines_FINAL.joblib\")\n",
    "unseen_predicted = loaded_rf.predict(EW_values_unseen)\n",
    "unseen_predicted_probs = loaded_rf.predict_proba(EW_values_unseen)"
   ]
  },
  {
   "cell_type": "markdown",
   "id": "starting-suspect",
   "metadata": {},
   "source": [
    "# Produce a csv file with the final results and the confidence level of each prediction"
   ]
  },
  {
   "cell_type": "code",
   "execution_count": 8,
   "id": "architectural-volunteer",
   "metadata": {},
   "outputs": [],
   "source": [
    "filename='Classification_Results_RF'\n",
    "indexx=np.arange(0,11,1)\n",
    "with open(filename,'w') as flname:\n",
    "    flname.write('ID'+','+'RF_ST'+','+'Probability'+','+'Confidence Level'+','+'B0'+','+'B1'+','+'B2'+','+'B3-B4'+','+'B5-B7'+','+'B8'+','+'B9'+','+'O2-O6'+','+'O7'+','+'O8'+','+'O9'+'\\n')\n",
    "    for ID,RF_ST,Probs in zip(Targets_unseen,unseen_predicted,unseen_predicted_probs):\n",
    "        if max(Probs) > 0.64:\n",
    "            flname.write(str(ID)+','+str(RF_ST)+','+str(np.round(max(Probs),4))+','+\"Strong Candidate\"+',')\n",
    "            for i in indexx:\n",
    "                if i in indexx[:-1]:\n",
    "                    flname.write(str(np.round(Probs[i],4))+',')\n",
    "                else:\n",
    "                    flname.write(str(np.round(Probs[i],4)) )\n",
    "            flname.write(\"\\n\")\n",
    "        if max(Probs) < 0.49:\n",
    "            flname.write(str(ID)+','+str(RF_ST)+','+str(np.round(max(Probs),4))+','+\"Candidate\"+',')\n",
    "            for i in indexx:\n",
    "                if i in indexx[:-1]:\n",
    "                    flname.write(str(np.round(Probs[i],4))+',')\n",
    "                else:\n",
    "                    flname.write(str(np.round(Probs[i],4)) )\n",
    "            flname.write(\"\\n\")\n",
    "            \n",
    "        if max(Probs)>0.49 and max(Probs)<0.64:\n",
    "            flname.write(str(ID)+','+str(RF_ST)+','+str(np.round(max(Probs),4))+','+\"Good Candidate\"+',')\n",
    "            for i in indexx:\n",
    "                if i in indexx[:-1]:\n",
    "                    flname.write(str(np.round(Probs[i],4))+',')\n",
    "                else:\n",
    "                    flname.write(str(np.round(Probs[i],4)))\n",
    "            flname.write(\"\\n\") "
   ]
  },
  {
   "cell_type": "markdown",
   "id": "divine-framework",
   "metadata": {},
   "source": [
    "# See the results as a DataFrame"
   ]
  },
  {
   "cell_type": "code",
   "execution_count": 9,
   "id": "aquatic-cricket",
   "metadata": {},
   "outputs": [
    {
     "data": {
      "text/html": [
       "<div>\n",
       "<style scoped>\n",
       "    .dataframe tbody tr th:only-of-type {\n",
       "        vertical-align: middle;\n",
       "    }\n",
       "\n",
       "    .dataframe tbody tr th {\n",
       "        vertical-align: top;\n",
       "    }\n",
       "\n",
       "    .dataframe thead th {\n",
       "        text-align: right;\n",
       "    }\n",
       "</style>\n",
       "<table border=\"1\" class=\"dataframe\">\n",
       "  <thead>\n",
       "    <tr style=\"text-align: right;\">\n",
       "      <th></th>\n",
       "      <th>ID</th>\n",
       "      <th>RF_ST</th>\n",
       "      <th>Probability</th>\n",
       "      <th>Confidence Level</th>\n",
       "      <th>B0</th>\n",
       "      <th>B1</th>\n",
       "      <th>B2</th>\n",
       "      <th>B3-B4</th>\n",
       "      <th>B5-B7</th>\n",
       "      <th>B8</th>\n",
       "      <th>B9</th>\n",
       "      <th>O2-O6</th>\n",
       "      <th>O7</th>\n",
       "      <th>O8</th>\n",
       "      <th>O9</th>\n",
       "    </tr>\n",
       "  </thead>\n",
       "  <tbody>\n",
       "    <tr>\n",
       "      <th>0</th>\n",
       "      <td>id_0</td>\n",
       "      <td>B9</td>\n",
       "      <td>0.3335</td>\n",
       "      <td>Candidate</td>\n",
       "      <td>0.0244</td>\n",
       "      <td>0.0322</td>\n",
       "      <td>0.0038</td>\n",
       "      <td>0.0549</td>\n",
       "      <td>0.1852</td>\n",
       "      <td>0.2820</td>\n",
       "      <td>0.3335</td>\n",
       "      <td>0.0681</td>\n",
       "      <td>0.0091</td>\n",
       "      <td>0.0032</td>\n",
       "      <td>0.0036</td>\n",
       "    </tr>\n",
       "    <tr>\n",
       "      <th>1</th>\n",
       "      <td>id_1</td>\n",
       "      <td>B8</td>\n",
       "      <td>0.2787</td>\n",
       "      <td>Candidate</td>\n",
       "      <td>0.0875</td>\n",
       "      <td>0.0411</td>\n",
       "      <td>0.0011</td>\n",
       "      <td>0.0338</td>\n",
       "      <td>0.1459</td>\n",
       "      <td>0.2787</td>\n",
       "      <td>0.2755</td>\n",
       "      <td>0.1108</td>\n",
       "      <td>0.0094</td>\n",
       "      <td>0.0039</td>\n",
       "      <td>0.0124</td>\n",
       "    </tr>\n",
       "    <tr>\n",
       "      <th>2</th>\n",
       "      <td>id_2</td>\n",
       "      <td>B9</td>\n",
       "      <td>0.3119</td>\n",
       "      <td>Candidate</td>\n",
       "      <td>0.0256</td>\n",
       "      <td>0.0305</td>\n",
       "      <td>0.0038</td>\n",
       "      <td>0.0471</td>\n",
       "      <td>0.1692</td>\n",
       "      <td>0.3088</td>\n",
       "      <td>0.3119</td>\n",
       "      <td>0.0847</td>\n",
       "      <td>0.0109</td>\n",
       "      <td>0.0032</td>\n",
       "      <td>0.0043</td>\n",
       "    </tr>\n",
       "    <tr>\n",
       "      <th>3</th>\n",
       "      <td>id_3</td>\n",
       "      <td>B9</td>\n",
       "      <td>0.3119</td>\n",
       "      <td>Candidate</td>\n",
       "      <td>0.0256</td>\n",
       "      <td>0.0305</td>\n",
       "      <td>0.0038</td>\n",
       "      <td>0.0471</td>\n",
       "      <td>0.1692</td>\n",
       "      <td>0.3088</td>\n",
       "      <td>0.3119</td>\n",
       "      <td>0.0847</td>\n",
       "      <td>0.0109</td>\n",
       "      <td>0.0032</td>\n",
       "      <td>0.0043</td>\n",
       "    </tr>\n",
       "    <tr>\n",
       "      <th>4</th>\n",
       "      <td>id_4</td>\n",
       "      <td>B9</td>\n",
       "      <td>0.3151</td>\n",
       "      <td>Candidate</td>\n",
       "      <td>0.0477</td>\n",
       "      <td>0.0538</td>\n",
       "      <td>0.0049</td>\n",
       "      <td>0.0493</td>\n",
       "      <td>0.1825</td>\n",
       "      <td>0.2577</td>\n",
       "      <td>0.3151</td>\n",
       "      <td>0.0686</td>\n",
       "      <td>0.0107</td>\n",
       "      <td>0.0025</td>\n",
       "      <td>0.0072</td>\n",
       "    </tr>\n",
       "    <tr>\n",
       "      <th>5</th>\n",
       "      <td>id_5</td>\n",
       "      <td>B9</td>\n",
       "      <td>0.3381</td>\n",
       "      <td>Candidate</td>\n",
       "      <td>0.0251</td>\n",
       "      <td>0.0314</td>\n",
       "      <td>0.0038</td>\n",
       "      <td>0.0531</td>\n",
       "      <td>0.1811</td>\n",
       "      <td>0.2814</td>\n",
       "      <td>0.3381</td>\n",
       "      <td>0.0699</td>\n",
       "      <td>0.0091</td>\n",
       "      <td>0.0032</td>\n",
       "      <td>0.0036</td>\n",
       "    </tr>\n",
       "    <tr>\n",
       "      <th>6</th>\n",
       "      <td>id_6</td>\n",
       "      <td>B9</td>\n",
       "      <td>0.3324</td>\n",
       "      <td>Candidate</td>\n",
       "      <td>0.0251</td>\n",
       "      <td>0.0326</td>\n",
       "      <td>0.0038</td>\n",
       "      <td>0.0540</td>\n",
       "      <td>0.1905</td>\n",
       "      <td>0.2757</td>\n",
       "      <td>0.3324</td>\n",
       "      <td>0.0699</td>\n",
       "      <td>0.0091</td>\n",
       "      <td>0.0032</td>\n",
       "      <td>0.0036</td>\n",
       "    </tr>\n",
       "    <tr>\n",
       "      <th>7</th>\n",
       "      <td>id_7</td>\n",
       "      <td>B9</td>\n",
       "      <td>0.3067</td>\n",
       "      <td>Candidate</td>\n",
       "      <td>0.0278</td>\n",
       "      <td>0.0279</td>\n",
       "      <td>0.0019</td>\n",
       "      <td>0.0471</td>\n",
       "      <td>0.1760</td>\n",
       "      <td>0.2750</td>\n",
       "      <td>0.3067</td>\n",
       "      <td>0.1173</td>\n",
       "      <td>0.0108</td>\n",
       "      <td>0.0046</td>\n",
       "      <td>0.0048</td>\n",
       "    </tr>\n",
       "  </tbody>\n",
       "</table>\n",
       "</div>"
      ],
      "text/plain": [
       "     ID RF_ST  Probability Confidence Level      B0      B1      B2   B3-B4  \\\n",
       "0  id_0    B9       0.3335        Candidate  0.0244  0.0322  0.0038  0.0549   \n",
       "1  id_1    B8       0.2787        Candidate  0.0875  0.0411  0.0011  0.0338   \n",
       "2  id_2    B9       0.3119        Candidate  0.0256  0.0305  0.0038  0.0471   \n",
       "3  id_3    B9       0.3119        Candidate  0.0256  0.0305  0.0038  0.0471   \n",
       "4  id_4    B9       0.3151        Candidate  0.0477  0.0538  0.0049  0.0493   \n",
       "5  id_5    B9       0.3381        Candidate  0.0251  0.0314  0.0038  0.0531   \n",
       "6  id_6    B9       0.3324        Candidate  0.0251  0.0326  0.0038  0.0540   \n",
       "7  id_7    B9       0.3067        Candidate  0.0278  0.0279  0.0019  0.0471   \n",
       "\n",
       "    B5-B7      B8      B9   O2-O6      O7      O8      O9  \n",
       "0  0.1852  0.2820  0.3335  0.0681  0.0091  0.0032  0.0036  \n",
       "1  0.1459  0.2787  0.2755  0.1108  0.0094  0.0039  0.0124  \n",
       "2  0.1692  0.3088  0.3119  0.0847  0.0109  0.0032  0.0043  \n",
       "3  0.1692  0.3088  0.3119  0.0847  0.0109  0.0032  0.0043  \n",
       "4  0.1825  0.2577  0.3151  0.0686  0.0107  0.0025  0.0072  \n",
       "5  0.1811  0.2814  0.3381  0.0699  0.0091  0.0032  0.0036  \n",
       "6  0.1905  0.2757  0.3324  0.0699  0.0091  0.0032  0.0036  \n",
       "7  0.1760  0.2750  0.3067  0.1173  0.0108  0.0046  0.0048  "
      ]
     },
     "execution_count": 9,
     "metadata": {},
     "output_type": "execute_result"
    }
   ],
   "source": [
    "df = pd.read_csv(\"Classification_Results_RF\",index_col=False)\n",
    "df.head(30)"
   ]
  }
 ],
 "metadata": {
  "kernelspec": {
   "display_name": "Python 3",
   "language": "python",
   "name": "python3"
  },
  "language_info": {
   "codemirror_mode": {
    "name": "ipython",
    "version": 3
   },
   "file_extension": ".py",
   "mimetype": "text/x-python",
   "name": "python",
   "nbconvert_exporter": "python",
   "pygments_lexer": "ipython3",
   "version": "3.8.5"
  }
 },
 "nbformat": 4,
 "nbformat_minor": 5
}
