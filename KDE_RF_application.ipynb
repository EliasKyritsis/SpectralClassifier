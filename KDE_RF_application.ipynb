{
 "cells": [
  {
   "cell_type": "markdown",
   "id": "afraid-oklahoma",
   "metadata": {},
   "source": [
    "# Import all the needed packages"
   ]
  },
  {
   "cell_type": "code",
   "execution_count": 1,
   "id": "blocked-ireland",
   "metadata": {},
   "outputs": [],
   "source": [
    "from natsort import natsorted\n",
    "from collections import defaultdict\n",
    "import numpy as np\n",
    "import os \n",
    "import pandas as pd\n",
    "import joblib"
   ]
  },
  {
   "cell_type": "markdown",
   "id": "individual-turning",
   "metadata": {},
   "source": [
    "# Load the dataset"
   ]
  },
  {
   "cell_type": "code",
   "execution_count": 2,
   "id": "suffering-portal",
   "metadata": {},
   "outputs": [],
   "source": [
    "path = '/home/elias/Projects/Github_rep/SpectralClassifier/' # Change the path with yours\n",
    "file_with_data = 'test_sample'\n",
    "infile_data = path + file_with_data"
   ]
  },
  {
   "cell_type": "code",
   "execution_count": 3,
   "id": "specified-nepal",
   "metadata": {},
   "outputs": [
    {
     "name": "stdout",
     "output_type": "stream",
     "text": [
      "Spectral Lines - Features: ['HeI/4009', 'HeI/4026', 'SiIV/4088', 'Hd/4100', 'SiIV/4116', 'HeI/4121', 'SiII/4130', 'HeI/4144', 'HeII/4200', 'FeII/4233', 'HeI/4387', 'OII/4416', 'HeI/4471', 'MgII/4481', 'HeII/4541', 'SiIII/4553', 'OII+CIII/4645', 'HeII/4686']\n"
     ]
    }
   ],
   "source": [
    "unseen_data = defaultdict(dict) #master dictionary\n",
    "with open(infile_data, 'r') as inf :\n",
    "    for line in inf.readlines():\n",
    "        if line[0] != '#' :\n",
    "            col = line.split(',') #','   \n",
    "            target_name = col[0]\n",
    "            spec_lines  = col[1]\n",
    "            ew_values   = col[3]\n",
    "            unseen_data[target_name][spec_lines] = ew_values\n",
    "            \n",
    "\n",
    "all_spec_lines = list(list(unseen_data.values())[0])\n",
    "print('Spectral Lines: {}'.format(all_spec_lines))"
   ]
  },
  {
   "cell_type": "markdown",
   "id": "hired-colleague",
   "metadata": {},
   "source": [
    "# Select the characteristic spectral lines "
   ]
  },
  {
   "cell_type": "code",
   "execution_count": 4,
   "id": "patient-arcade",
   "metadata": {},
   "outputs": [
    {
     "name": "stdout",
     "output_type": "stream",
     "text": [
      "Spectral Features are:\n",
      "['HeI/4009', 'HeI/4026', 'SiIV/4088', 'SiIV/4116', 'HeI/4121', 'SiII/4130', 'HeI/4144', 'HeII/4200', 'FeII/4233', 'HeI/4387', 'OII/4416', 'HeI/4471', 'MgII/4481', 'HeII/4541', 'SiIII/4553', 'OII+CIII/4645', 'HeII/4686']\n"
     ]
    }
   ],
   "source": [
    "selected_lines =['HeI/4009', 'HeI/4026', 'SiIV/4088', 'SiIV/4116', 'HeI/4121', 'SiII/4130', \n",
    "                 'HeI/4144', 'HeII/4200', 'FeII/4233', 'HeI/4387', 'OII/4416', 'HeI/4471', \n",
    "                 'MgII/4481', 'HeII/4541', 'SiIII/4553', 'OII+CIII/4645', 'HeII/4686']\n",
    "print('Spectral Features are:')\n",
    "print(selected_lines)"
   ]
  },
  {
   "cell_type": "markdown",
   "id": "independent-municipality",
   "metadata": {},
   "source": [
    "# Check the number of the spectra which will be classified by the model"
   ]
  },
  {
   "cell_type": "code",
   "execution_count": 5,
   "id": "third-omaha",
   "metadata": {},
   "outputs": [
    {
     "name": "stdout",
     "output_type": "stream",
     "text": [
      "Unseen data: 8\n",
      "-------------------------\n"
     ]
    }
   ],
   "source": [
    "print('Unseen data: {}'.format(len(unseen_data)))\n",
    "print('-'*25)"
   ]
  },
  {
   "cell_type": "markdown",
   "id": "senior-vulnerability",
   "metadata": {},
   "source": [
    "# Creating the arrays with the targets ID and the EW from each line"
   ]
  },
  {
   "cell_type": "code",
   "execution_count": 6,
   "id": "casual-malawi",
   "metadata": {},
   "outputs": [],
   "source": [
    "Targets_unseen = []\n",
    "EW_values_unseen = []\n",
    "\n",
    "for i in unseen_data.keys():\n",
    "    temp = []\n",
    "    for j in selected_lines:\n",
    "        temp.append(unseen_data[i][j])\n",
    "    Targets_unseen.append((i))\n",
    "    EW_values_unseen.append(temp)\n",
    "\n",
    "EW_values_unseen = np.asarray(EW_values_unseen,dtype=np.float64)\n",
    "Targets_unseen= np.asarray(Targets_unseen)"
   ]
  },
  {
   "cell_type": "markdown",
   "id": "native-spring",
   "metadata": {},
   "source": [
    "# Load the pre-trained model and apply it "
   ]
  },
  {
   "cell_type": "code",
   "execution_count": 7,
   "id": "joined-locking",
   "metadata": {},
   "outputs": [],
   "source": [
    "loaded_kderf = joblib.load(\"KDE_RF_best_model_17_lines_FINAL.joblib\")\n",
    "unseen_predicted = loaded_kderf.predict(EW_values_unseen)\n",
    "unseen_predicted_probs = loaded_kderf.predict_proba(EW_values_unseen)"
   ]
  },
  {
   "cell_type": "markdown",
   "id": "convenient-microwave",
   "metadata": {},
   "source": [
    "# Produce a csv file with the final results and the confidence level of each prediction"
   ]
  },
  {
   "cell_type": "code",
   "execution_count": 10,
   "id": "coral-strike",
   "metadata": {},
   "outputs": [],
   "source": [
    "filename='Classification_Results_KDE_RF'\n",
    "indexx=np.arange(0,11,1)\n",
    "with open(filename,'w') as flname:\n",
    "    flname.write('ID'+','+'KDE_RF_ST'+','+'Probability'+','+'Confidence Level'+','+'B0'+','+'B1'+','+'B2'+','+'B3-B4'+','+'B5-B7'+','+'B8'+','+'B9'+','+'O2-O6'+','+'O7'+','+'O8'+','+'O9'+'\\n')\n",
    "#     print(indexx)\n",
    "    for ID,KDE_RF_ST,Probs in zip(Targets_unseen,unseen_predicted,unseen_predicted_probs):\n",
    "        if max(Probs) > 0.64:\n",
    "            flname.write(str(ID)+','+str(KDE_RF_ST)+','+str(np.round(max(Probs),4))+','+\"Strong Candidate\"+',')\n",
    "            for i in indexx:\n",
    "#                 print(Probs)\n",
    "                if i in indexx[:-1]:\n",
    "                    flname.write(str(np.round(Probs[i],4))+',')\n",
    "                else:\n",
    "                    flname.write(str(np.round(Probs[i],4)) )\n",
    "            flname.write(\"\\n\")\n",
    "        if max(Probs) < 0.49:\n",
    "            flname.write(str(ID)+','+str(KDE_RF_ST)+','+str(np.round(max(Probs),4))+','+\"Candidate\"+',')\n",
    "            for i in indexx:\n",
    "                if i in indexx[:-1]:\n",
    "                    flname.write(str(np.round(Probs[i],4))+',')\n",
    "                else:\n",
    "                    flname.write(str(np.round(Probs[i],4)) )\n",
    "            flname.write(\"\\n\")\n",
    "            \n",
    "        if max(Probs)>0.49 and max(Probs)<0.64:\n",
    "            flname.write(str(ID)+','+str(KDE_RF_ST)+','+str(np.round(max(Probs),4))+','+\"Good Candidate\"+',')\n",
    "            for i in indexx:\n",
    "                if i in indexx[:-1]:\n",
    "                    flname.write(str(np.round(Probs[i],4))+',')\n",
    "                else:\n",
    "                    flname.write(str(np.round(Probs[i],4)))\n",
    "            flname.write(\"\\n\") "
   ]
  },
  {
   "cell_type": "markdown",
   "id": "wicked-silver",
   "metadata": {},
   "source": [
    "# See the results as a DataFrame"
   ]
  },
  {
   "cell_type": "code",
   "execution_count": 11,
   "id": "biological-modeling",
   "metadata": {},
   "outputs": [
    {
     "data": {
      "text/html": [
       "<div>\n",
       "<style scoped>\n",
       "    .dataframe tbody tr th:only-of-type {\n",
       "        vertical-align: middle;\n",
       "    }\n",
       "\n",
       "    .dataframe tbody tr th {\n",
       "        vertical-align: top;\n",
       "    }\n",
       "\n",
       "    .dataframe thead th {\n",
       "        text-align: right;\n",
       "    }\n",
       "</style>\n",
       "<table border=\"1\" class=\"dataframe\">\n",
       "  <thead>\n",
       "    <tr style=\"text-align: right;\">\n",
       "      <th></th>\n",
       "      <th>ID</th>\n",
       "      <th>KDE_RF_ST</th>\n",
       "      <th>Probability</th>\n",
       "      <th>Confidence Level</th>\n",
       "      <th>B0</th>\n",
       "      <th>B1</th>\n",
       "      <th>B2</th>\n",
       "      <th>B3-B4</th>\n",
       "      <th>B5-B7</th>\n",
       "      <th>B8</th>\n",
       "      <th>B9</th>\n",
       "      <th>O2-O6</th>\n",
       "      <th>O7</th>\n",
       "      <th>O8</th>\n",
       "      <th>O9</th>\n",
       "    </tr>\n",
       "  </thead>\n",
       "  <tbody>\n",
       "    <tr>\n",
       "      <th>0</th>\n",
       "      <td>id_0</td>\n",
       "      <td>B9</td>\n",
       "      <td>0.4216</td>\n",
       "      <td>Candidate</td>\n",
       "      <td>0.0252</td>\n",
       "      <td>0.0372</td>\n",
       "      <td>0.0076</td>\n",
       "      <td>0.0857</td>\n",
       "      <td>0.1327</td>\n",
       "      <td>0.2256</td>\n",
       "      <td>0.4216</td>\n",
       "      <td>0.0553</td>\n",
       "      <td>0.0014</td>\n",
       "      <td>0.0069</td>\n",
       "      <td>0.0007</td>\n",
       "    </tr>\n",
       "    <tr>\n",
       "      <th>1</th>\n",
       "      <td>id_1</td>\n",
       "      <td>B9</td>\n",
       "      <td>0.3030</td>\n",
       "      <td>Candidate</td>\n",
       "      <td>0.1056</td>\n",
       "      <td>0.0538</td>\n",
       "      <td>0.0028</td>\n",
       "      <td>0.0511</td>\n",
       "      <td>0.1079</td>\n",
       "      <td>0.2158</td>\n",
       "      <td>0.3030</td>\n",
       "      <td>0.1340</td>\n",
       "      <td>0.0022</td>\n",
       "      <td>0.0111</td>\n",
       "      <td>0.0128</td>\n",
       "    </tr>\n",
       "    <tr>\n",
       "      <th>2</th>\n",
       "      <td>id_2</td>\n",
       "      <td>B9</td>\n",
       "      <td>0.3811</td>\n",
       "      <td>Candidate</td>\n",
       "      <td>0.0246</td>\n",
       "      <td>0.0357</td>\n",
       "      <td>0.0066</td>\n",
       "      <td>0.0632</td>\n",
       "      <td>0.1190</td>\n",
       "      <td>0.2874</td>\n",
       "      <td>0.3811</td>\n",
       "      <td>0.0721</td>\n",
       "      <td>0.0000</td>\n",
       "      <td>0.0097</td>\n",
       "      <td>0.0007</td>\n",
       "    </tr>\n",
       "    <tr>\n",
       "      <th>3</th>\n",
       "      <td>id_3</td>\n",
       "      <td>B9</td>\n",
       "      <td>0.3811</td>\n",
       "      <td>Candidate</td>\n",
       "      <td>0.0246</td>\n",
       "      <td>0.0357</td>\n",
       "      <td>0.0066</td>\n",
       "      <td>0.0632</td>\n",
       "      <td>0.1190</td>\n",
       "      <td>0.2874</td>\n",
       "      <td>0.3811</td>\n",
       "      <td>0.0721</td>\n",
       "      <td>0.0000</td>\n",
       "      <td>0.0097</td>\n",
       "      <td>0.0007</td>\n",
       "    </tr>\n",
       "    <tr>\n",
       "      <th>4</th>\n",
       "      <td>id_4</td>\n",
       "      <td>B9</td>\n",
       "      <td>0.3804</td>\n",
       "      <td>Candidate</td>\n",
       "      <td>0.0607</td>\n",
       "      <td>0.0749</td>\n",
       "      <td>0.0087</td>\n",
       "      <td>0.0710</td>\n",
       "      <td>0.1235</td>\n",
       "      <td>0.2176</td>\n",
       "      <td>0.3804</td>\n",
       "      <td>0.0500</td>\n",
       "      <td>0.0022</td>\n",
       "      <td>0.0075</td>\n",
       "      <td>0.0035</td>\n",
       "    </tr>\n",
       "    <tr>\n",
       "      <th>5</th>\n",
       "      <td>id_5</td>\n",
       "      <td>B9</td>\n",
       "      <td>0.4273</td>\n",
       "      <td>Candidate</td>\n",
       "      <td>0.0239</td>\n",
       "      <td>0.0377</td>\n",
       "      <td>0.0078</td>\n",
       "      <td>0.0698</td>\n",
       "      <td>0.1295</td>\n",
       "      <td>0.2314</td>\n",
       "      <td>0.4273</td>\n",
       "      <td>0.0645</td>\n",
       "      <td>0.0000</td>\n",
       "      <td>0.0075</td>\n",
       "      <td>0.0007</td>\n",
       "    </tr>\n",
       "    <tr>\n",
       "      <th>6</th>\n",
       "      <td>id_6</td>\n",
       "      <td>B9</td>\n",
       "      <td>0.4189</td>\n",
       "      <td>Candidate</td>\n",
       "      <td>0.0267</td>\n",
       "      <td>0.0391</td>\n",
       "      <td>0.0078</td>\n",
       "      <td>0.0797</td>\n",
       "      <td>0.1316</td>\n",
       "      <td>0.2281</td>\n",
       "      <td>0.4189</td>\n",
       "      <td>0.0601</td>\n",
       "      <td>0.0000</td>\n",
       "      <td>0.0075</td>\n",
       "      <td>0.0007</td>\n",
       "    </tr>\n",
       "    <tr>\n",
       "      <th>7</th>\n",
       "      <td>id_7</td>\n",
       "      <td>B9</td>\n",
       "      <td>0.3443</td>\n",
       "      <td>Candidate</td>\n",
       "      <td>0.0286</td>\n",
       "      <td>0.0282</td>\n",
       "      <td>0.0017</td>\n",
       "      <td>0.0721</td>\n",
       "      <td>0.1285</td>\n",
       "      <td>0.2458</td>\n",
       "      <td>0.3443</td>\n",
       "      <td>0.1300</td>\n",
       "      <td>0.0022</td>\n",
       "      <td>0.0124</td>\n",
       "      <td>0.0063</td>\n",
       "    </tr>\n",
       "  </tbody>\n",
       "</table>\n",
       "</div>"
      ],
      "text/plain": [
       "     ID KDE_RF_ST  Probability Confidence Level      B0      B1      B2  \\\n",
       "0  id_0        B9       0.4216        Candidate  0.0252  0.0372  0.0076   \n",
       "1  id_1        B9       0.3030        Candidate  0.1056  0.0538  0.0028   \n",
       "2  id_2        B9       0.3811        Candidate  0.0246  0.0357  0.0066   \n",
       "3  id_3        B9       0.3811        Candidate  0.0246  0.0357  0.0066   \n",
       "4  id_4        B9       0.3804        Candidate  0.0607  0.0749  0.0087   \n",
       "5  id_5        B9       0.4273        Candidate  0.0239  0.0377  0.0078   \n",
       "6  id_6        B9       0.4189        Candidate  0.0267  0.0391  0.0078   \n",
       "7  id_7        B9       0.3443        Candidate  0.0286  0.0282  0.0017   \n",
       "\n",
       "    B3-B4   B5-B7      B8      B9   O2-O6      O7      O8      O9  \n",
       "0  0.0857  0.1327  0.2256  0.4216  0.0553  0.0014  0.0069  0.0007  \n",
       "1  0.0511  0.1079  0.2158  0.3030  0.1340  0.0022  0.0111  0.0128  \n",
       "2  0.0632  0.1190  0.2874  0.3811  0.0721  0.0000  0.0097  0.0007  \n",
       "3  0.0632  0.1190  0.2874  0.3811  0.0721  0.0000  0.0097  0.0007  \n",
       "4  0.0710  0.1235  0.2176  0.3804  0.0500  0.0022  0.0075  0.0035  \n",
       "5  0.0698  0.1295  0.2314  0.4273  0.0645  0.0000  0.0075  0.0007  \n",
       "6  0.0797  0.1316  0.2281  0.4189  0.0601  0.0000  0.0075  0.0007  \n",
       "7  0.0721  0.1285  0.2458  0.3443  0.1300  0.0022  0.0124  0.0063  "
      ]
     },
     "execution_count": 11,
     "metadata": {},
     "output_type": "execute_result"
    }
   ],
   "source": [
    "df = pd.read_csv(\"Classification_Results_KDE_RF\",index_col=False)\n",
    "df.head(30)"
   ]
  },
  {
   "cell_type": "code",
   "execution_count": null,
   "id": "recognized-behavior",
   "metadata": {},
   "outputs": [],
   "source": []
  }
 ],
 "metadata": {
  "kernelspec": {
   "display_name": "Python 3",
   "language": "python",
   "name": "python3"
  },
  "language_info": {
   "codemirror_mode": {
    "name": "ipython",
    "version": 3
   },
   "file_extension": ".py",
   "mimetype": "text/x-python",
   "name": "python",
   "nbconvert_exporter": "python",
   "pygments_lexer": "ipython3",
   "version": "3.8.5"
  }
 },
 "nbformat": 4,
 "nbformat_minor": 5
}
