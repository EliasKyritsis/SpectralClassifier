{
 "cells": [
  {
   "cell_type": "markdown",
   "id": "brief-dublin",
   "metadata": {},
   "source": [
    "# Import all the needed packages"
   ]
  },
  {
   "cell_type": "code",
   "execution_count": null,
   "id": "cardiac-distributor",
   "metadata": {},
   "outputs": [],
   "source": [
    "from natsort import natsorted\n",
    "from collections import defaultdict\n",
    "import numpy as np\n",
    "import os \n",
    "import pandas as pd\n",
    "import joblib\n",
    "from PRF import prf"
   ]
  },
  {
   "cell_type": "markdown",
   "id": "explicit-excellence",
   "metadata": {},
   "source": [
    "# Load the dataset"
   ]
  },
  {
   "cell_type": "code",
   "execution_count": 12,
   "id": "suffering-portal",
   "metadata": {},
   "outputs": [],
   "source": [
    "path = '/home/elias/Projects/Github_rep/SpectralClassifier/' # Change the path with yours\n",
    "file_with_data = 'test_sample'\n",
    "infile_data = path + file_with_data"
   ]
  },
  {
   "cell_type": "code",
   "execution_count": 14,
   "id": "specified-nepal",
   "metadata": {},
   "outputs": [
    {
     "name": "stdout",
     "output_type": "stream",
     "text": [
      "Spectral Lines: ['HeI/4009', 'HeI/4026', 'SiIV/4088', 'Hd/4100', 'SiIV/4116', 'HeI/4121', 'SiII/4130', 'HeI/4144', 'HeII/4200', 'FeII/4233', 'HeI/4387', 'OII/4416', 'HeI/4471', 'MgII/4481', 'HeII/4541', 'SiIII/4553', 'OII+CIII/4645', 'HeII/4686']\n"
     ]
    }
   ],
   "source": [
    "unseen_data = defaultdict(dict) #master dictionary\n",
    "unseen_data_err= defaultdict(dict)\n",
    "with open(infile_data, 'r') as inf :\n",
    "    for line in inf.readlines():\n",
    "        if line[0] != '#' :\n",
    "            col = line.split(',') #','   \n",
    "            target_name = col[0]\n",
    "            spec_lines  = col[1]\n",
    "            ew_values   = col[2]\n",
    "            ew_errors   = col[3]\n",
    "            unseen_data[target_name][spec_lines] = ew_values\n",
    "            unseen_data_err[target_name][spec_lines] = ew_errors\n",
    "\n",
    "all_spec_lines = list(list(unseen_data.values())[0])\n",
    "print('Spectral Lines: {}'.format(all_spec_lines))"
   ]
  },
  {
   "cell_type": "markdown",
   "id": "pharmaceutical-wayne",
   "metadata": {},
   "source": [
    "# Select the characteristic spectral lines "
   ]
  },
  {
   "cell_type": "code",
   "execution_count": 15,
   "id": "patient-arcade",
   "metadata": {},
   "outputs": [
    {
     "name": "stdout",
     "output_type": "stream",
     "text": [
      "Spectral Features are:\n",
      "['HeI/4009', 'HeI/4026', 'SiIV/4088', 'SiIV/4116', 'HeI/4121', 'SiII/4130', 'HeI/4144', 'HeII/4200', 'FeII/4233', 'HeI/4387', 'OII/4416', 'HeI/4471', 'MgII/4481', 'HeII/4541', 'SiIII/4553', 'OII+CIII/4645', 'HeII/4686']\n"
     ]
    }
   ],
   "source": [
    "selected_lines =['HeI/4009', 'HeI/4026', 'SiIV/4088', 'SiIV/4116', 'HeI/4121', 'SiII/4130', \n",
    "                 'HeI/4144', 'HeII/4200', 'FeII/4233', 'HeI/4387', 'OII/4416', 'HeI/4471', \n",
    "                 'MgII/4481', 'HeII/4541', 'SiIII/4553', 'OII+CIII/4645', 'HeII/4686']\n",
    "print('Spectral Features are:')\n",
    "print(selected_lines)"
   ]
  },
  {
   "cell_type": "markdown",
   "id": "polished-messenger",
   "metadata": {},
   "source": [
    "# Check the number of the spectra which will be classified by the model"
   ]
  },
  {
   "cell_type": "code",
   "execution_count": 16,
   "id": "third-omaha",
   "metadata": {},
   "outputs": [
    {
     "name": "stdout",
     "output_type": "stream",
     "text": [
      "Unseen data: 8\n",
      "-------------------------\n"
     ]
    }
   ],
   "source": [
    "print('Unseen data: {}'.format(len(unseen_data)))\n",
    "print('-'*25)"
   ]
  },
  {
   "cell_type": "markdown",
   "id": "virgin-newcastle",
   "metadata": {},
   "source": [
    "# Creating the arrays with the targets ID and the EW, EW_error from each line"
   ]
  },
  {
   "cell_type": "code",
   "execution_count": 17,
   "id": "undefined-provider",
   "metadata": {},
   "outputs": [],
   "source": [
    "Targets_unseen = []\n",
    "EW_values_unseen = []\n",
    "EW_errors_unseen = []\n",
    "\n",
    "for i in unseen_data.keys():\n",
    "    temp_1,temp_2 = [],[]\n",
    "    for j in selected_lines:\n",
    "        temp_1.append(unseen_data[i][j])\n",
    "        temp_2.append(unseen_data_err[i][j])\n",
    "    Targets_unseen.append((i))\n",
    "    EW_values_unseen.append(temp_1)\n",
    "    EW_errors_unseen.append(temp_2)\n",
    "    \n",
    "\n",
    "EW_values_unseen= np.asarray(EW_values_unseen)\n",
    "EW_errors_unseen = np.asarray(EW_errors_unseen)\n",
    "Targets_unseen = np.asarray(Targets_unseen)"
   ]
  },
  {
   "cell_type": "markdown",
   "id": "based-swimming",
   "metadata": {},
   "source": [
    "# Load the pre-trained model and apply it "
   ]
  },
  {
   "cell_type": "code",
   "execution_count": 18,
   "id": "joined-locking",
   "metadata": {},
   "outputs": [],
   "source": [
    "loaded_prf = joblib.load(\"PRF_best_model_17_lines_FINAL.joblib\")\n",
    "unseen_predicted_IACOB = loaded_prf.predict(X=EW_values_unseen,dX=EW_errors_unseen)\n",
    "unseen_predicted_probs = loaded_prf.predict_proba(EW_values_unseen)\n",
    "print(len(unseen_predicted))"
   ]
  },
  {
   "cell_type": "markdown",
   "id": "rapid-elephant",
   "metadata": {},
   "source": [
    "# Produce a csv file with the final results and the confidence level of each prediction"
   ]
  },
  {
   "cell_type": "code",
   "execution_count": 17,
   "id": "coral-strike",
   "metadata": {},
   "outputs": [],
   "source": [
    "filename='Classification_Results_PRF'\n",
    "indexx=np.arange(0,11,1)\n",
    "with open(filename,'w') as flname:\n",
    "    flname.write('ID'+','+'PRF_ST'+','+'Probability'+','+'Confidence Level'+','+'B0'+','+'B1'+','+'B2'+','+'B3-B4'+','+'B5-B7'+','+'B8'+','+'B9'+','+'O2-O6'+','+'O7'+','+'O8'+','+'O9'+'\\n')\n",
    "#     print(indexx)\n",
    "    for ID,IA_ST,PRF_ST,Probs in zip(Targets_unseen,unseen_predicted,unseen_predicted_probs):\n",
    "        if max(Probs) > 0.64:\n",
    "            flname.write(str(ID)+','+str(PRF_ST)+','+str(np.round(max(Probs),4))+','+\"Strong Candidate\"+',')\n",
    "            for i in indexx:\n",
    "#                 print(Probs)\n",
    "                if i in indexx[:-1]:\n",
    "                    flname.write(str(np.round(Probs[i],4))+',')\n",
    "                else:\n",
    "                    flname.write(str(np.round(Probs[i],4)) )\n",
    "            flname.write(\"\\n\")\n",
    "        if max(Probs) < 0.49:\n",
    "            flname.write(str(ID)+','+str(PRF_ST)+','+str(np.round(max(Probs),4))+','+\"Candidate\"+',')\n",
    "            for i in indexx:\n",
    "                if i in indexx[:-1]:\n",
    "                    flname.write(str(np.round(Probs[i],4))+',')\n",
    "                else:\n",
    "                    flname.write(str(np.round(Probs[i],4)) )\n",
    "            flname.write(\"\\n\")\n",
    "            \n",
    "        if max(Probs)>0.49 and max(Probs)<0.64:\n",
    "            flname.write(str(ID)+','+str(PRF_ST)+','+str(np.round(max(Probs),4))+','+\"Good Candidate\"+',')\n",
    "            for i in indexx:\n",
    "                if i in indexx[:-1]:\n",
    "                    flname.write(str(np.round(Probs[i],4))+',')\n",
    "                else:\n",
    "                    flname.write(str(np.round(Probs[i],4)))\n",
    "            flname.write(\"\\n\") "
   ]
  },
  {
   "cell_type": "markdown",
   "id": "immune-education",
   "metadata": {},
   "source": [
    "# See the results as a DataFrame"
   ]
  },
  {
   "cell_type": "code",
   "execution_count": 19,
   "id": "biological-modeling",
   "metadata": {},
   "outputs": [],
   "source": [
    "df = pd.read_csv(\"Classification_Results_PRF\",index_col=False)\n",
    "df.head(30)"
   ]
  }
 ],
 "metadata": {
  "kernelspec": {
   "display_name": "Python 3",
   "language": "python",
   "name": "python3"
  },
  "language_info": {
   "codemirror_mode": {
    "name": "ipython",
    "version": 3
   },
   "file_extension": ".py",
   "mimetype": "text/x-python",
   "name": "python",
   "nbconvert_exporter": "python",
   "pygments_lexer": "ipython3",
   "version": "3.8.5"
  }
 },
 "nbformat": 4,
 "nbformat_minor": 5
}
